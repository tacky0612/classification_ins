{
 "cells": [
  {
   "cell_type": "code",
   "execution_count": 1,
   "metadata": {},
   "outputs": [
    {
     "name": "stderr",
     "output_type": "stream",
     "text": [
      "/Users/tacky0612/anaconda3/lib/python3.6/importlib/_bootstrap.py:219: RuntimeWarning: compiletime version 3.5 of module 'tensorflow.python.framework.fast_tensor_util' does not match runtime version 3.6\n",
      "  return f(*args, **kwds)\n"
     ]
    }
   ],
   "source": [
    "%matplotlib inline\n",
    "import tensorflow as tf\n",
    "import numpy as np\n",
    "import matplotlib.pyplot as plt\n",
    "import wave\n",
    "import random"
   ]
  },
  {
   "cell_type": "code",
   "execution_count": 2,
   "metadata": {
    "collapsed": true
   },
   "outputs": [],
   "source": [
    "def wave_plot(filename): #WAVの正規化とそれの吐き出し\n",
    "#     open wave file\n",
    "    wf = wave.open(filename,'r')\n",
    "    channels = wf.getnchannels()\n",
    "\n",
    "#     load wave data\n",
    "    time = 1 #sec\n",
    "    chunk_size =44100*time #1sec = 44100\n",
    "    amp  = (2**8) ** wf.getsampwidth() / 2\n",
    "    x = wf.readframes(chunk_size)   # バイナリ読み込み\n",
    "    x = np.frombuffer(x,'int16') # intに変換\n",
    "    x = x / amp                  # 振幅正規化(-1~1)\n",
    "    x = x[::channels]　　　　　　　# stereo　→　monoral\n",
    "    \n",
    "    return x"
   ]
  },
  {
   "cell_type": "code",
   "execution_count": 20,
   "metadata": {
    "collapsed": true
   },
   "outputs": [],
   "source": [
    "def data_set(count,instrument_list,start_list,end_list): #データセットを作りたい（願望）\n",
    "    # count = データセットとして取り出したい数 , instrument_list = \"楽器\"(str) , start_list =  始点指定, end_list = データセットの終点指定 \n",
    "    K = len(instrument_list)\n",
    "    waves = np.array([])\n",
    "    labels = np.array([])\n",
    "    \n",
    "    for i in range(int(count)):\n",
    "        \n",
    "        N = random.randint(0,K-1)\n",
    "        n = random.randint(start_list[N],end_list[N]) #ファイルの全範囲までの乱数生成\n",
    "        wave = wave_plot(\"./\" + instrument_list[N] + \"/output/\" + str(n) +\".wav\") # ランダムで指定楽器のWAVデータを配列に入れる\n",
    "        waves = np.append(waves,wave,axis=0)\n",
    "        label = np.zeros(K)                #1-of-Kのラベル生成\n",
    "        label.put(N, 1)\n",
    "        labels = np.append(labels,label,axis=0)\n",
    "        num = len(wave)\n",
    "        \n",
    "    #np.ndarrayの整形\n",
    "    waves = np.reshape(waves,(count,num))\n",
    "    labels = np.reshape(labels,(count,K))\n",
    "    \n",
    "    return waves,labels"
   ]
  },
  {
   "cell_type": "code",
   "execution_count": 21,
   "metadata": {
    "collapsed": true
   },
   "outputs": [],
   "source": [
    "namelist = [\"piano\",\"bass\"]\n",
    "startlist_test = [100,100,100,100]\n",
    "endlist_test = [1000,1000,1000,1000]\n",
    "startlist_train = [0,0,0,0]\n",
    "endlist_train = [99,99,99,99]"
   ]
  },
  {
   "cell_type": "code",
   "execution_count": 22,
   "metadata": {
    "collapsed": true
   },
   "outputs": [],
   "source": [
    "num_units = 1024\n",
    "\n",
    "x = tf.placeholder(tf.float32, [None, 44100])\n",
    "\n",
    "w1 = tf.Variable(tf.truncated_normal([44100, num_units]))\n",
    "b1 = tf.Variable(tf.zeros([num_units]))\n",
    "hidden1 = tf.nn.sigmoid(tf.matmul(x, w1) + b1)\n",
    "\n",
    "w0 = tf.Variable(tf.zeros([num_units, 2]))\n",
    "b0 = tf.Variable(tf.zeros([]))\n",
    "p = tf.nn.softmax(tf.matmul(hidden1, w0) + b0)"
   ]
  },
  {
   "cell_type": "code",
   "execution_count": 23,
   "metadata": {
    "collapsed": true
   },
   "outputs": [],
   "source": [
    "t = tf.placeholder(tf.float32, [None,2])\n",
    "loss = -tf.reduce_sum(t * tf.log(p))\n",
    "train_step = tf.train.AdamOptimizer().minimize(loss)\n",
    "correct_prediction = tf.equal(tf.argmax(p, 1), tf.argmax(t, 1))\n",
    "accuracy = tf.reduce_mean(tf.cast(correct_prediction, tf.float32))"
   ]
  },
  {
   "cell_type": "code",
   "execution_count": 24,
   "metadata": {
    "collapsed": true
   },
   "outputs": [],
   "source": [
    "sess = tf.Session()\n",
    "sess.run(tf.global_variables_initializer())"
   ]
  },
  {
   "cell_type": "code",
   "execution_count": 25,
   "metadata": {},
   "outputs": [
    {
     "name": "stdout",
     "output_type": "stream",
     "text": [
      "Step: 10, Loss: 70.296204, Accuracy: 0.490000\n",
      "Step: 20, Loss: 74.970901, Accuracy: 0.480000\n",
      "Step: 30, Loss: 77.985947, Accuracy: 0.450000\n",
      "Step: 40, Loss: 86.870018, Accuracy: 0.480000\n",
      "Step: 50, Loss: 88.758514, Accuracy: 0.430000\n",
      "Step: 60, Loss: 96.590836, Accuracy: 0.460000\n",
      "Step: 70, Loss: 96.749481, Accuracy: 0.430000\n",
      "Step: 80, Loss: 99.294373, Accuracy: 0.430000\n",
      "Step: 90, Loss: 103.288147, Accuracy: 0.470000\n",
      "Step: 100, Loss: 104.330170, Accuracy: 0.440000\n",
      "Step: 110, Loss: 108.098923, Accuracy: 0.460000\n",
      "Step: 120, Loss: 109.718399, Accuracy: 0.450000\n",
      "Step: 130, Loss: 109.831062, Accuracy: 0.460000\n",
      "Step: 140, Loss: 108.978470, Accuracy: 0.430000\n",
      "Step: 150, Loss: 111.365860, Accuracy: 0.440000\n",
      "Step: 160, Loss: 114.249664, Accuracy: 0.450000\n",
      "Step: 170, Loss: 115.547798, Accuracy: 0.450000\n",
      "Step: 180, Loss: 114.917755, Accuracy: 0.430000\n",
      "Step: 190, Loss: 116.908936, Accuracy: 0.450000\n",
      "Step: 200, Loss: 118.408356, Accuracy: 0.450000\n",
      "Step: 210, Loss: 117.948204, Accuracy: 0.450000\n",
      "Step: 220, Loss: 117.760971, Accuracy: 0.440000\n",
      "Step: 230, Loss: 119.404480, Accuracy: 0.450000\n",
      "Step: 240, Loss: 120.493721, Accuracy: 0.450000\n",
      "Step: 250, Loss: 121.737274, Accuracy: 0.450000\n",
      "Step: 260, Loss: 123.367569, Accuracy: 0.450000\n",
      "Step: 270, Loss: 123.168762, Accuracy: 0.450000\n",
      "Step: 280, Loss: 123.311935, Accuracy: 0.450000\n",
      "Step: 290, Loss: 123.905624, Accuracy: 0.450000\n",
      "Step: 300, Loss: 124.903397, Accuracy: 0.450000\n",
      "Step: 310, Loss: 125.988960, Accuracy: 0.450000\n",
      "Step: 320, Loss: 127.060120, Accuracy: 0.450000\n",
      "Step: 330, Loss: 128.151993, Accuracy: 0.450000\n",
      "Step: 340, Loss: 128.001648, Accuracy: 0.450000\n",
      "Step: 350, Loss: 128.438248, Accuracy: 0.450000\n",
      "Step: 360, Loss: 129.435745, Accuracy: 0.450000\n",
      "Step: 370, Loss: 129.387421, Accuracy: 0.450000\n",
      "Step: 380, Loss: 129.473145, Accuracy: 0.450000\n",
      "Step: 390, Loss: 129.829239, Accuracy: 0.450000\n",
      "Step: 400, Loss: 129.950027, Accuracy: 0.450000\n",
      "Step: 410, Loss: 130.854248, Accuracy: 0.450000\n",
      "Step: 420, Loss: 131.498276, Accuracy: 0.450000\n",
      "Step: 430, Loss: 132.136673, Accuracy: 0.450000\n",
      "Step: 440, Loss: 132.505600, Accuracy: 0.450000\n",
      "Step: 450, Loss: 132.995239, Accuracy: 0.450000\n",
      "Step: 460, Loss: 133.189301, Accuracy: 0.450000\n",
      "Step: 470, Loss: 133.720093, Accuracy: 0.450000\n",
      "Step: 480, Loss: 133.630646, Accuracy: 0.450000\n",
      "Step: 490, Loss: 134.096176, Accuracy: 0.450000\n",
      "Step: 500, Loss: 134.617889, Accuracy: 0.450000\n"
     ]
    }
   ],
   "source": [
    "i = 0\n",
    "waves_test, labels_test = data_set(100,namelist ,startlist_test,endlist_test)\n",
    "for _ in range(500):\n",
    "    i += 1\n",
    "    batch_xs, batch_ts = data_set(100,namelist ,startlist_train,endlist_train)\n",
    "    sess.run(train_step, feed_dict={x: batch_xs, t: batch_ts})\n",
    "    if i % 10 == 0:\n",
    "        loss_val, acc_val = sess.run([loss, accuracy],\n",
    "            feed_dict={x:waves_test, t: labels_test})\n",
    "        print ('Step: %d, Loss: %f, Accuracy: %f'\n",
    "               % (i, loss_val, acc_val))"
   ]
  },
  {
   "cell_type": "code",
   "execution_count": null,
   "metadata": {
    "collapsed": true
   },
   "outputs": [],
   "source": []
  }
 ],
 "metadata": {
  "kernelspec": {
   "display_name": "Python 3",
   "language": "python",
   "name": "python3"
  },
  "language_info": {
   "codemirror_mode": {
    "name": "ipython",
    "version": 3
   },
   "file_extension": ".py",
   "mimetype": "text/x-python",
   "name": "python",
   "nbconvert_exporter": "python",
   "pygments_lexer": "ipython3",
   "version": "3.6.5"
  }
 },
 "nbformat": 4,
 "nbformat_minor": 2
}
