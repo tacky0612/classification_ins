{
 "cells": [
  {
   "cell_type": "code",
   "execution_count": 1,
   "metadata": {},
   "outputs": [
    {
     "name": "stderr",
     "output_type": "stream",
     "text": [
      "/Users/tacky0612/anaconda3/lib/python3.6/importlib/_bootstrap.py:219: RuntimeWarning: compiletime version 3.5 of module 'tensorflow.python.framework.fast_tensor_util' does not match runtime version 3.6\n",
      "  return f(*args, **kwds)\n"
     ]
    }
   ],
   "source": [
    "%matplotlib inline\n",
    "import tensorflow as tf\n",
    "import numpy as np\n",
    "import matplotlib.pyplot as plt\n",
    "import wave\n",
    "import random\n"
   ]
  },
  {
   "cell_type": "code",
   "execution_count": 2,
   "metadata": {
    "collapsed": true
   },
   "outputs": [],
   "source": [
    "#種まき\n",
    "random.seed(19950612)\n",
    "np.random.seed(19950612)\n",
    "tf.set_random_seed(19950612)"
   ]
  },
  {
   "cell_type": "code",
   "execution_count": 3,
   "metadata": {
    "collapsed": true
   },
   "outputs": [],
   "source": [
    "def wave_load(filename): #WAVの正規化とそれの吐き出し\n",
    "#     open wave file\n",
    "    wf = wave.open(filename,'r')\n",
    "    channels = wf.getnchannels()\n",
    "\n",
    "#     load wave data\n",
    "    time = 1 #sec\n",
    "    chunk_size =44100*time #1sec = 44100\n",
    "    amp  = (2**8) ** wf.getsampwidth() / 2\n",
    "    data = wf.readframes(chunk_size)   # バイナリ読み込み\n",
    "    data = np.frombuffer(data,'int16') # intに変換\n",
    "    data = data / amp                  # 振幅正規化(-1~1)\n",
    "    data = data[::channels]        # stereo　→　monoral\n",
    "    \n",
    "    return data"
   ]
  },
  {
   "cell_type": "code",
   "execution_count": 4,
   "metadata": {
    "collapsed": true
   },
   "outputs": [],
   "source": [
    "def fft_load(filename,size): #FFT (窓あり)\n",
    "\n",
    "    wave = wave_load(filename)\n",
    "    \n",
    "    st = 10000   # サンプリングする開始位置\n",
    "    hammingWindow = np.hamming(size)    # ハミング窓\n",
    "    fs = 44100 #サンプリングレート\n",
    "    d = 1.0 / fs #サンプリングレートの逆数\n",
    "    freqList = np.fft.fftfreq(size, d)\n",
    "    \n",
    "    windowedData = hammingWindow * wave[st:st+size]  # 切り出した波形データ（窓関数あり）\n",
    "    data = np.fft.fft(windowedData)\n",
    "    if max(abs(data)) == 0:    #無音がないか判定\n",
    "        print(\"むりぽよ\",filename)\n",
    "    data = data / (max(abs(data))) # 0~1正規化\n",
    "\n",
    "    return data"
   ]
  },
  {
   "cell_type": "code",
   "execution_count": 5,
   "metadata": {
    "collapsed": true
   },
   "outputs": [],
   "source": [
    "def data_set_train(count,instrument_list,start_list,end_list,size): #データセットを作りたい（願望）\n",
    "    '''\n",
    "    count = データセットとして取り出したい数 \n",
    "    instrument_list = \"楽器\"(str)\n",
    "    start_list =  始点\n",
    "    end_list = 終点 \n",
    "    size = FFTのサンプル数\n",
    "    \n",
    "    '''\n",
    "    K = len(instrument_list)\n",
    "    ffts = np.array([])\n",
    "    labels = np.array([])\n",
    "    \n",
    "    for i in range(int(count)):\n",
    "        \n",
    "        N = random.randint(0,K-1)\n",
    "        n = random.randint(start_list[N],end_list[N]) #ファイルの全範囲までの乱数生成\n",
    "        filename = \"./\" + instrument_list[N] + \"/output/\" + str(n) +\".wav\"\n",
    "        fft = fft_load(filename,size) # ランダムで指定楽器のFFTデータを配列に入れる\n",
    "        ffts = np.append(ffts,fft,axis=0)\n",
    "        label = np.zeros(K)                #1-of-Kのラベル生成\n",
    "        label.put(N, 1)\n",
    "        labels = np.append(labels,label,axis=0)\n",
    "        num = len(fft)\n",
    "        \n",
    "    #np.ndarrayの整形\n",
    "    ffts = np.reshape(ffts,(count,num))\n",
    "    labels = np.reshape(labels,(count,K))\n",
    "    \n",
    "    return ffts,labels"
   ]
  },
  {
   "cell_type": "code",
   "execution_count": 6,
   "metadata": {
    "collapsed": true
   },
   "outputs": [],
   "source": [
    "def data_set_test(count,instrument_list,size): #データセットを作りたい（願望）\n",
    "    '''\n",
    "    count = データセットとして取り出したい数 \n",
    "    instrument_list = \"楽器\"(str)\n",
    "    size = FFTのサンプル数\n",
    "    \n",
    "    '''\n",
    "    K = len(instrument_list)\n",
    "    ffts = np.array([])\n",
    "    labels = np.array([])\n",
    "    \n",
    "    i = 0\n",
    "    for i in range(int(K)):\n",
    "        n = 0\n",
    "        for n in range(count):\n",
    "            filename = \"./\" + instrument_list[i] + \"/output/\" + str(n) +\".wav\"\n",
    "            fft = fft_load(filename,size) \n",
    "            ffts = np.append(ffts,fft,axis=0)\n",
    "            label = np.zeros(K)                #1-of-Kのラベル生成\n",
    "            label.put(i, 1)\n",
    "            labels = np.append(labels,label,axis=0)\n",
    "            \n",
    "        \n",
    "    #np.ndarrayの整形\n",
    "    num = len(fft)\n",
    "    ffts = np.reshape(ffts,(count*K,num))\n",
    "    labels = np.reshape(labels,(count*K,K))\n",
    "    \n",
    "    return ffts,labels"
   ]
  },
  {
   "cell_type": "code",
   "execution_count": 7,
   "metadata": {
    "collapsed": true
   },
   "outputs": [],
   "source": [
    "namelist = [\"synth\",\"Aguitar\"] #ここをイジる\n",
    "startlist_train = [100] * len(namelist)\n",
    "endlist_train = [1100,700] #データセットの終点を指定"
   ]
  },
  {
   "cell_type": "code",
   "execution_count": 8,
   "metadata": {},
   "outputs": [],
   "source": [
    "num_units = 4096 #ノード\n",
    "FFT = 1024 #FFTのサンプル数\n",
    "\n",
    "x = tf.placeholder(tf.float64, [None, FFT])\n",
    "\n",
    "w1 = tf.Variable(tf.truncated_normal([FFT, num_units],dtype=tf.float64))\n",
    "b1 = tf.Variable(tf.zeros([num_units],dtype=tf.float64))\n",
    "hidden1 = tf.nn.sigmoid(tf.matmul(x, w1) + b1)\n",
    "\n",
    "w0 = tf.Variable(tf.zeros([num_units, len(namelist)],dtype=tf.float64))\n",
    "b0 = tf.Variable(tf.zeros([],dtype=tf.float64))\n",
    "p = tf.nn.softmax(tf.matmul(hidden1, w0) + b0)\n",
    "\n",
    "t = tf.placeholder(tf.float64, [None,len(namelist)])\n",
    "loss = -tf.reduce_sum(t * tf.log(p))\n",
    "train_step = tf.train.AdamOptimizer().minimize(loss)\n",
    "correct_prediction = tf.equal(tf.argmax(p, 1), tf.argmax(t, 1))\n",
    "accuracy = tf.reduce_mean(tf.cast(correct_prediction, tf.float64))"
   ]
  },
  {
   "cell_type": "code",
   "execution_count": 9,
   "metadata": {
    "scrolled": true
   },
   "outputs": [
    {
     "name": "stdout",
     "output_type": "stream",
     "text": [
      "['synth', 'Aguitar']\n"
     ]
    },
    {
     "name": "stderr",
     "output_type": "stream",
     "text": [
      "/Users/tacky0612/anaconda3/lib/python3.6/site-packages/numpy/core/numeric.py:531: ComplexWarning: Casting complex values to real discards the imaginary part\n",
      "  return array(a, dtype, copy=False, order=order)\n"
     ]
    },
    {
     "name": "stdout",
     "output_type": "stream",
     "text": [
      "Step: 100, Loss: 151.383131, Accuracy: 0.455000\n",
      "Step: 200, Loss: 150.219969, Accuracy: 0.460000\n",
      "Step: 300, Loss: 155.724429, Accuracy: 0.550000\n",
      "Step: 400, Loss: 156.090173, Accuracy: 0.515000\n",
      "Step: 500, Loss: 165.163079, Accuracy: 0.565000\n",
      "Step: 600, Loss: 173.947078, Accuracy: 0.595000\n",
      "Step: 700, Loss: 181.041481, Accuracy: 0.585000\n",
      "Step: 800, Loss: 194.791092, Accuracy: 0.600000\n",
      "Step: 900, Loss: 214.056358, Accuracy: 0.570000\n",
      "Step: 1000, Loss: 238.582732, Accuracy: 0.530000\n",
      "Step: 1100, Loss: 270.108545, Accuracy: 0.540000\n",
      "Step: 1200, Loss: 271.080918, Accuracy: 0.570000\n",
      "Step: 1300, Loss: 289.716689, Accuracy: 0.585000\n",
      "Step: 1400, Loss: 309.723676, Accuracy: 0.565000\n",
      "Step: 1500, Loss: 337.262528, Accuracy: 0.555000\n",
      "Step: 1600, Loss: 362.260747, Accuracy: 0.525000\n",
      "Step: 1700, Loss: 374.092045, Accuracy: 0.580000\n",
      "Step: 1800, Loss: 405.855068, Accuracy: 0.500000\n",
      "Step: 1900, Loss: 424.422863, Accuracy: 0.545000\n",
      "Step: 2000, Loss: 448.102438, Accuracy: 0.550000\n"
     ]
    }
   ],
   "source": [
    "sess = tf.Session()\n",
    "sess.run(tf.global_variables_initializer())\n",
    "\n",
    "i = 0\n",
    "ffts_test, labels_test = data_set_test(100,namelist,FFT)\n",
    "print(namelist)\n",
    "for _ in range(2000):\n",
    "    i += 1\n",
    "    batch_xs, batch_ts = data_set_train(200,namelist ,startlist_train,endlist_train,FFT)\n",
    "    sess.run(train_step, feed_dict={x: batch_xs, t: batch_ts})\n",
    "    if i % 100 == 0:\n",
    "        loss_val, acc_val = sess.run([loss, accuracy],\n",
    "            feed_dict={x:ffts_test, t: labels_test})\n",
    "        print ('Step: %d, Loss: %f, Accuracy: %f'\n",
    "               % (i, loss_val, acc_val))"
   ]
  },
  {
   "cell_type": "code",
   "execution_count": null,
   "metadata": {
    "collapsed": true
   },
   "outputs": [],
   "source": []
  }
 ],
 "metadata": {
  "kernelspec": {
   "display_name": "Python 3",
   "language": "python",
   "name": "python3"
  },
  "language_info": {
   "codemirror_mode": {
    "name": "ipython",
    "version": 3
   },
   "file_extension": ".py",
   "mimetype": "text/x-python",
   "name": "python",
   "nbconvert_exporter": "python",
   "pygments_lexer": "ipython3",
   "version": "3.6.3"
  }
 },
 "nbformat": 4,
 "nbformat_minor": 2
}
