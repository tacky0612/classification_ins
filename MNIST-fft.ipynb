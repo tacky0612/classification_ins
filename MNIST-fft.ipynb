{
 "cells": [
  {
   "cell_type": "code",
   "execution_count": 1,
   "metadata": {},
   "outputs": [
    {
     "name": "stderr",
     "output_type": "stream",
     "text": [
      "/Users/tacky0612/anaconda3/lib/python3.6/importlib/_bootstrap.py:219: RuntimeWarning: compiletime version 3.5 of module 'tensorflow.python.framework.fast_tensor_util' does not match runtime version 3.6\n",
      "  return f(*args, **kwds)\n"
     ]
    }
   ],
   "source": [
    "%matplotlib inline\n",
    "import tensorflow as tf\n",
    "import numpy as np\n",
    "import matplotlib.pyplot as plt\n",
    "import wave\n",
    "import random\n",
    "\n",
    "# np.seterr(all=\"raise\")"
   ]
  },
  {
   "cell_type": "code",
   "execution_count": 2,
   "metadata": {
    "collapsed": true
   },
   "outputs": [],
   "source": [
    "random.seed(19950612)"
   ]
  },
  {
   "cell_type": "code",
   "execution_count": 3,
   "metadata": {
    "collapsed": true
   },
   "outputs": [],
   "source": [
    "def wave_load(filename): #WAVの正規化とそれの吐き出し\n",
    "#     open wave file\n",
    "    wf = wave.open(filename,'r')\n",
    "    channels = wf.getnchannels()\n",
    "\n",
    "#     load wave data\n",
    "    time = 1 #sec\n",
    "    chunk_size =44100*time #1sec = 44100\n",
    "    amp  = (2**8) ** wf.getsampwidth() / 2\n",
    "    data = wf.readframes(chunk_size)   # バイナリ読み込み\n",
    "    data = np.frombuffer(data,'int16') # intに変換\n",
    "    data = data / amp                  # 振幅正規化(-1~1)\n",
    "    data = data[::channels]        # stereo　→　monoral\n",
    "    \n",
    "    return data"
   ]
  },
  {
   "cell_type": "code",
   "execution_count": 4,
   "metadata": {},
   "outputs": [],
   "source": [
    "def fft_load(filename,size):\n",
    "\n",
    "    wave = wave_load(filename)\n",
    "    fs = 44100 #サンプリングレート\n",
    "    d = 1.0 / fs #サンプリングレートの逆数\n",
    "\n",
    "    data = np.fft.fft(wave[10000:10000 + size])\n",
    "    frq = np.fft.fftfreq(size,d)\n",
    "    if max(abs(data)) == 0 :\n",
    "        print(\"むりぽよ\",filename)\n",
    "    data = data / (max(abs(data))) # 0~1正規化\n",
    "\n",
    "    return data"
   ]
  },
  {
   "cell_type": "code",
   "execution_count": 5,
   "metadata": {
    "collapsed": true
   },
   "outputs": [],
   "source": [
    "def data_set(count,instrument_list,start_list,end_list,size): #データセットを作りたい（願望）\n",
    "    '''\n",
    "    count = データセットとして取り出したい数 \n",
    "    instrument_list = \"楽器\"(str)\n",
    "    start_list =  始点\n",
    "    end_list = 終点 \n",
    "    size = FFTのサンプル数\n",
    "    \n",
    "    '''\n",
    "    K = len(instrument_list)\n",
    "    ffts = np.array([])\n",
    "    labels = np.array([])\n",
    "    \n",
    "    for i in range(int(count)):\n",
    "        \n",
    "        N = random.randint(0,K-1)\n",
    "        n = random.randint(start_list[N],end_list[N]) #ファイルの全範囲までの乱数生成\n",
    "        filename = \"./\" + instrument_list[N] + \"/output/\" + str(n) +\".wav\"\n",
    "        fft = fft_load(filename,size) # ランダムで指定楽器のFFTデータを配列に入れる\n",
    "        ffts = np.append(ffts,fft,axis=0)\n",
    "        label = np.zeros(K)                #1-of-Kのラベル生成\n",
    "        label.put(N, 1)\n",
    "        labels = np.append(labels,label,axis=0)\n",
    "        num = len(fft)\n",
    "        \n",
    "    #np.ndarrayの整形\n",
    "    ffts = np.reshape(ffts,(count,num))\n",
    "    labels = np.reshape(labels,(count,K))\n",
    "    \n",
    "    return ffts,labels"
   ]
  },
  {
   "cell_type": "code",
   "execution_count": 6,
   "metadata": {},
   "outputs": [],
   "source": [
    "namelist = [\"piano\",\"synth\"]\n",
    "startlist_test = [0,0,0,0,0]\n",
    "endlist_test = [299,299,299,299,299]\n",
    "startlist_train = [300,300,300,300,300]\n",
    "endlist_train = [1897,1137,782,4009]"
   ]
  },
  {
   "cell_type": "code",
   "execution_count": 7,
   "metadata": {},
   "outputs": [],
   "source": [
    "num_units = 4096\n",
    "\n",
    "x = tf.placeholder(tf.float32, [None, 1024])\n",
    "\n",
    "w1 = tf.Variable(tf.truncated_normal([1024, num_units]))\n",
    "b1 = tf.Variable(tf.zeros([num_units]))\n",
    "hidden1 = tf.nn.sigmoid(tf.matmul(x, w1) + b1)\n",
    "\n",
    "w0 = tf.Variable(tf.zeros([num_units, len(namelist)]))\n",
    "b0 = tf.Variable(tf.zeros([]))\n",
    "p = tf.nn.softmax(tf.matmul(hidden1, w0) + b0)"
   ]
  },
  {
   "cell_type": "code",
   "execution_count": 8,
   "metadata": {},
   "outputs": [],
   "source": [
    "t = tf.placeholder(tf.float32, [None,len(namelist)])\n",
    "loss = -tf.reduce_sum(t * tf.log(p))\n",
    "train_step = tf.train.AdamOptimizer().minimize(loss)\n",
    "correct_prediction = tf.equal(tf.argmax(p, 1), tf.argmax(t, 1))\n",
    "accuracy = tf.reduce_mean(tf.cast(correct_prediction, tf.float32))"
   ]
  },
  {
   "cell_type": "code",
   "execution_count": 9,
   "metadata": {},
   "outputs": [],
   "source": [
    "sess = tf.Session()\n",
    "sess.run(tf.global_variables_initializer())"
   ]
  },
  {
   "cell_type": "code",
   "execution_count": 10,
   "metadata": {},
   "outputs": [
    {
     "name": "stderr",
     "output_type": "stream",
     "text": [
      "/Users/tacky0612/anaconda3/lib/python3.6/site-packages/numpy/core/numeric.py:531: ComplexWarning: Casting complex values to real discards the imaginary part\n",
      "  return array(a, dtype, copy=False, order=order)\n"
     ]
    },
    {
     "name": "stdout",
     "output_type": "stream",
     "text": [
      "Step: 100, Loss: 149.197296, Accuracy: 0.470000\n",
      "Step: 200, Loss: 160.223251, Accuracy: 0.480000\n",
      "Step: 300, Loss: 172.238220, Accuracy: 0.485000\n",
      "Step: 400, Loss: 184.473145, Accuracy: 0.525000\n",
      "Step: 500, Loss: 201.239349, Accuracy: 0.510000\n",
      "Step: 600, Loss: 210.075439, Accuracy: 0.500000\n",
      "Step: 700, Loss: 230.003906, Accuracy: 0.570000\n",
      "Step: 800, Loss: 232.586212, Accuracy: 0.510000\n",
      "Step: 900, Loss: 244.827057, Accuracy: 0.475000\n",
      "Step: 1000, Loss: 283.652954, Accuracy: 0.575000\n",
      "Step: 1100, Loss: 269.452240, Accuracy: 0.525000\n",
      "Step: 1200, Loss: 283.480957, Accuracy: 0.505000\n",
      "Step: 1300, Loss: 293.335205, Accuracy: 0.530000\n",
      "Step: 1400, Loss: 320.778107, Accuracy: 0.525000\n",
      "Step: 1500, Loss: 325.697998, Accuracy: 0.535000\n",
      "Step: 1600, Loss: 345.632874, Accuracy: 0.540000\n",
      "Step: 1700, Loss: 367.779022, Accuracy: 0.555000\n",
      "Step: 1800, Loss: 352.991089, Accuracy: 0.530000\n",
      "Step: 1900, Loss: 381.671967, Accuracy: 0.545000\n",
      "Step: 2000, Loss: 411.831665, Accuracy: 0.570000\n",
      "Step: 2100, Loss: 428.156769, Accuracy: 0.550000\n",
      "Step: 2200, Loss: 459.319092, Accuracy: 0.570000\n",
      "Step: 2300, Loss: 451.852844, Accuracy: 0.550000\n",
      "Step: 2400, Loss: nan, Accuracy: 0.520000\n",
      "Step: 2500, Loss: nan, Accuracy: 0.520000\n",
      "Step: 2600, Loss: nan, Accuracy: 0.520000\n",
      "Step: 2700, Loss: nan, Accuracy: 0.520000\n",
      "Step: 2800, Loss: nan, Accuracy: 0.520000\n",
      "Step: 2900, Loss: nan, Accuracy: 0.520000\n",
      "Step: 3000, Loss: nan, Accuracy: 0.520000\n",
      "Step: 3100, Loss: nan, Accuracy: 0.520000\n",
      "Step: 3200, Loss: nan, Accuracy: 0.520000\n",
      "Step: 3300, Loss: nan, Accuracy: 0.520000\n",
      "Step: 3400, Loss: nan, Accuracy: 0.520000\n",
      "Step: 3500, Loss: nan, Accuracy: 0.520000\n",
      "Step: 3600, Loss: nan, Accuracy: 0.520000\n",
      "Step: 3700, Loss: nan, Accuracy: 0.520000\n",
      "Step: 3800, Loss: nan, Accuracy: 0.520000\n",
      "Step: 3900, Loss: nan, Accuracy: 0.520000\n",
      "Step: 4000, Loss: nan, Accuracy: 0.520000\n"
     ]
    }
   ],
   "source": [
    "i = 0\n",
    "ffts_test, labels_test = data_set(200,namelist ,startlist_test,endlist_test,1024)\n",
    "for _ in range(4000):\n",
    "    i += 1\n",
    "    batch_xs, batch_ts = data_set(200,namelist ,startlist_train,endlist_train,1024)\n",
    "    sess.run(train_step, feed_dict={x: batch_xs, t: batch_ts})\n",
    "    if i % 100 == 0:\n",
    "        loss_val, acc_val = sess.run([loss, accuracy],\n",
    "            feed_dict={x:ffts_test, t: labels_test})\n",
    "        print ('Step: %d, Loss: %f, Accuracy: %f'\n",
    "               % (i, loss_val, acc_val))"
   ]
  },
  {
   "cell_type": "code",
   "execution_count": null,
   "metadata": {
    "collapsed": true
   },
   "outputs": [],
   "source": []
  },
  {
   "cell_type": "code",
   "execution_count": null,
   "metadata": {
    "collapsed": true
   },
   "outputs": [],
   "source": []
  },
  {
   "cell_type": "code",
   "execution_count": null,
   "metadata": {
    "collapsed": true
   },
   "outputs": [],
   "source": []
  }
 ],
 "metadata": {
  "kernelspec": {
   "display_name": "Python 3",
   "language": "python",
   "name": "python3"
  },
  "language_info": {
   "codemirror_mode": {
    "name": "ipython",
    "version": 3
   },
   "file_extension": ".py",
   "mimetype": "text/x-python",
   "name": "python",
   "nbconvert_exporter": "python",
   "pygments_lexer": "ipython3",
   "version": "3.6.5"
  }
 },
 "nbformat": 4,
 "nbformat_minor": 2
}
