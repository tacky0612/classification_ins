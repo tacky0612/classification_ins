{
 "cells": [
  {
   "cell_type": "code",
   "execution_count": 24,
   "metadata": {
    "collapsed": true
   },
   "outputs": [],
   "source": [
    "import wave\n",
    "import struct\n",
    "import math\n",
    "import os\n",
    "from scipy import fromstring, int16"
   ]
  },
  {
   "cell_type": "code",
   "execution_count": 25,
   "metadata": {
    "scrolled": true
   },
   "outputs": [
    {
     "name": "stdout",
     "output_type": "stream",
     "text": [
      "True\n"
     ]
    }
   ],
   "source": [
    "# 一応既に同じ名前のディレクトリがないか確認。\n",
    "file = os.path.exists(\"output\")\n",
    "print(file)"
   ]
  },
  {
   "cell_type": "code",
   "execution_count": 26,
   "metadata": {
    "collapsed": true
   },
   "outputs": [],
   "source": [
    "if file == False:\n",
    "    #保存先のディレクトリの作成\n",
    "    os.mkdir(\"output\")"
   ]
  },
  {
   "cell_type": "code",
   "execution_count": 31,
   "metadata": {
    "collapsed": true,
    "scrolled": true
   },
   "outputs": [],
   "source": [
    "def cut_wav(filename,time,start):  # WAVファイルを刈り奪る　形をしてるだろ？ \n",
    "    # timeの単位は[sec]\n",
    "\n",
    "    # ファイルを読み出し\n",
    "    wavf = str(filename) + '.wav'\n",
    "    wr = wave.open(wavf, 'r')\n",
    "\n",
    "    # waveファイルが持つ性質を取得\n",
    "    ch = wr.getnchannels()\n",
    "    width = wr.getsampwidth()\n",
    "    fr = wr.getframerate()\n",
    "    fn = wr.getnframes()\n",
    "    total_time = 1.0 * fn / fr\n",
    "    integer = math.floor(total_time) # 小数点以下切り捨て\n",
    "    t = int(time)  # 秒数[sec]\n",
    "    frames = int(ch * fr * t)\n",
    "    num_cut = int(integer//t)\n",
    "\n",
    "    #　確認用\n",
    "#     print(\"Channel: \", ch)\n",
    "#     print(\"Sample width: \", width)\n",
    "#     print(\"Frame Rate: \", fr)\n",
    "    print(\"Frame num: \", fn)\n",
    "#     print(\"Params: \", wr.getparams())\n",
    "    print(\"Total time: \", total_time ,\"sec\")\n",
    "#     print(\"Total time(integer)\",integer)\n",
    "#     print(\"Time: \", t) \n",
    "#     print(\"Frames: \", frames) \n",
    "    print(\"Number of cut: \",num_cut)\n",
    "\n",
    "    # waveの実データを取得し、数値化\n",
    "    data = wr.readframes(wr.getnframes())\n",
    "    wr.close()\n",
    "    X = fromstring(data, dtype=int16)\n",
    "#     print(X)\n",
    "\n",
    "\n",
    "    for i in range(num_cut):\n",
    "#         print(i)\n",
    "        # 出力データを生成\n",
    "        outf = 'output/' + str(i+start) + '.wav' \n",
    "        start_cut = i*frames\n",
    "        end_cut = i*frames + frames\n",
    "#         print(start_cut)\n",
    "#         print(end_cut)\n",
    "        Y = X[start_cut:end_cut]\n",
    "        outd = struct.pack(\"h\" * len(Y), *Y)\n",
    "\n",
    "        # 書き出し\n",
    "        ww = wave.open(outf, 'w')\n",
    "        ww.setnchannels(ch)\n",
    "        ww.setsampwidth(width)\n",
    "        ww.setframerate(fr)\n",
    "        ww.writeframes(outd)\n",
    "        ww.close()\n",
    "        \n",
    "    return i+start+1 #　現在のカット済のファイル名の次を返す（はず）"
   ]
  },
  {
   "cell_type": "code",
   "execution_count": 32,
   "metadata": {
    "scrolled": true
   },
   "outputs": [
    {
     "name": "stdout",
     "output_type": "stream",
     "text": [
      "cut time = \n",
      "1\n",
      "Number of file = \n",
      "2\n",
      "=====================================================\n",
      "name_file :  0 .wav\n",
      "Frame num:  769744\n",
      "Total time:  17.454512471655327 sec\n",
      "Number of cut:  17\n",
      "return : 17\n",
      "=====================================================\n",
      "name_file :  1 .wav\n",
      "Frame num:  940796\n",
      "Total time:  21.333242630385488 sec\n",
      "Number of cut:  21\n",
      "return : 38\n",
      "=====================================================\n",
      "name_file :  2 .wav\n",
      "Frame num:  736279\n",
      "Total time:  16.695668934240363 sec\n",
      "Number of cut:  16\n",
      "return : 54\n",
      "=====================================================\n"
     ]
    }
   ],
   "source": [
    "n = 0\n",
    "print(\"cut time = \")\n",
    "cut_time = input()\n",
    "print(\"Number of file = \")\n",
    "a = input()\n",
    "num_file = int(a)+1\n",
    "print('=====================================================')\n",
    "for name_file in range(int(num_file)):\n",
    "    print(\"name_file : \",name_file,\".wav\")\n",
    "    n = cut_wav(name_file,cut_time,n)\n",
    "    print('return :',n)\n",
    "    print('=====================================================')"
   ]
  },
  {
   "cell_type": "code",
   "execution_count": null,
   "metadata": {
    "collapsed": true
   },
   "outputs": [],
   "source": []
  }
 ],
 "metadata": {
  "kernelspec": {
   "display_name": "Python 3",
   "language": "python",
   "name": "python3"
  },
  "language_info": {
   "codemirror_mode": {
    "name": "ipython",
    "version": 3
   },
   "file_extension": ".py",
   "mimetype": "text/x-python",
   "name": "python",
   "nbconvert_exporter": "python",
   "pygments_lexer": "ipython3",
   "version": "3.6.3"
  }
 },
 "nbformat": 4,
 "nbformat_minor": 2
}
